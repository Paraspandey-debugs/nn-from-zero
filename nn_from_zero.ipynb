{
 "cells": [
  {
   "cell_type": "markdown",
   "id": "f721a3f5",
   "metadata": {},
   "source": [
    "### Importing Required Libraries\n",
    "\n",
    "We start by importing the necessary Python libraries for numerical computation, data visualization, and data handling:\n",
    "\n",
    "- **NumPy** – for numerical operations  \n",
    "- **Matplotlib** – for creating visualizations  \n",
    "- **Pandas** – for data manipulation and analysis  \n",
    "\n",
    "We also define the mathematical constant **Euler's Number (E)** for later use.\n"
   ]
  },
  {
   "cell_type": "code",
   "execution_count": null,
   "id": "54918ac9",
   "metadata": {
    "vscode": {
     "languageId": "plaintext"
    }
   },
   "outputs": [],
   "source": [
    "import numpy as np\n",
    "# import nnfs\n",
    "# from nnfs.datasets import spiral_data\n",
    "import matplotlib.pyplot as plt\n",
    "import pandas as pd\n",
    "# nnfs.init()\n",
    "E = 2.71828182846\n",
    "\n"
   ]
  },
  {
   "cell_type": "markdown",
   "id": "a9f79f26",
   "metadata": {},
   "source": [
    "-Creating a Dense Layer class for a neural network.\n",
    "-Initializes small random weights and zero biases.\n",
    "-Forward pass computes outputs, backward pass calculates gradients for weights, biases, and inputs."
   ]
  },
  {
   "cell_type": "code",
   "execution_count": null,
   "id": "5de83f7e",
   "metadata": {
    "vscode": {
     "languageId": "plaintext"
    }
   },
   "outputs": [],
   "source": [
    "class Layer_Dense:\n",
    "    def __init__(self, n_inputs, n_neurons):\n",
    "        self.weights = 0.01 * np.random.randn(n_inputs, n_neurons)\n",
    "        self.biases = np.zeros((1, n_neurons))\n",
    "\n",
    "    def forward(self, inputs):\n",
    "        self.inputs = inputs\n",
    "        self.output = np.dot(inputs, self.weights) + self.biases\n",
    "\n",
    "    def backward(self, dvalues):\n",
    "        self.dweights = np.dot(self.inputs.T, dvalues)\n",
    "        self.dbiases = np.sum(dvalues, axis=0, keepdims=True)\n",
    "        self.dinputs = np.dot(dvalues, self.weights.T)\n"
   ]
  },
  {
   "cell_type": "markdown",
   "id": "8d6aefd1",
   "metadata": {},
   "source": [
    "Defines two activation functions for neural networks:\n",
    "\n",
    "* ReLU: outputs positive values, zeroing negatives; backward pass stops gradients for inactive neurons.\n",
    "* Softmax: converts outputs to probabilities; backward pass uses the Jacobian matrix for gradient calculation.\n"
   ]
  },
  {
   "cell_type": "code",
   "execution_count": null,
   "id": "7e5bc357",
   "metadata": {
    "vscode": {
     "languageId": "plaintext"
    }
   },
   "outputs": [],
   "source": [
    "class Activation_ReLU:\n",
    "    def forward(self,inputs):\n",
    "        self.inputs = inputs\n",
    "        self.output = np.maximum(0,inputs)\n",
    "    def backward(self,dvalues):\n",
    "        self.dinputs = dvalues.copy()\n",
    "        self.dinputs[self.inputs <=0] = 0\n",
    "\n",
    "\n",
    "class Activation_Softmax:\n",
    "    def forward(self,inputs):\n",
    "\n",
    "        exp_values = np.exp(inputs - np.max(inputs,axis=1,keepdims=True))\n",
    "        probablities = exp_values/np.sum(exp_values,axis=1,keepdims=True)\n",
    "\n",
    "        self.output = probablities\n",
    "    def backward(self,dvalues):\n",
    "        self.dinputs = np.empty_like(dvalues)\n",
    "\n",
    "        for index, (single_output,single_dvalues)in enumerate(zip(self.output,dvalues)):\n",
    "            single_output = single_output.reshape(-1,1)\n",
    "            jacobian_matrix = np.diagflat(single_output) - np.dot(single_output, single_output.T)\n",
    "            self.dinputs[index] = np.dot(jacobian_matrix,single_dvalues)\n",
    "\n"
   ]
  },
  {
   "cell_type": "markdown",
   "id": "a787af13",
   "metadata": {},
   "source": [
    "Base Loss class with a `Calculate` method.\n",
    "Calls `forward` to compute per-sample losses, then returns their mean as the final loss value.\n"
   ]
  },
  {
   "cell_type": "code",
   "execution_count": null,
   "id": "de638ff8",
   "metadata": {
    "vscode": {
     "languageId": "plaintext"
    }
   },
   "outputs": [],
   "source": [
    "class Loss:\n",
    "    def Calculate(self,output,y):\n",
    "        sample_losses = self.forward(output,y)\n",
    "        data_loss = np.mean(sample_losses)\n",
    "\n",
    "        return data_loss\n"
   ]
  },
  {
   "cell_type": "markdown",
   "id": "96fb0a57",
   "metadata": {},
   "source": [
    "Categorical Cross-Entropy loss implementation.\n",
    "In `forward`, it clips predictions to avoid log(0), selects the correct class probabilities, and returns the negative log-likelihoods.\n",
    "In `backward`, it converts class indices to one-hot if needed and computes the gradient with respect to predictions.\n"
   ]
  },
  {
   "cell_type": "code",
   "execution_count": null,
   "id": "49b0ed8d",
   "metadata": {
    "vscode": {
     "languageId": "plaintext"
    }
   },
   "outputs": [],
   "source": [
    "class Loss_CategoricalCrossentropy(Loss):\n",
    "    def forward(self,y_pred,y_true):\n",
    "        samples = len(y_pred)\n",
    "        y_pred_clpped = np.clip(y_pred,1e-7,1-1e-7)\n",
    "\n",
    "        if len(y_true.shape) == 1:\n",
    "            correct_confidences = y_pred_clpped[\n",
    "                range(samples),\n",
    "                y_true\n",
    "            ]\n",
    "\n",
    "        elif len(y_true.shape) == 2:\n",
    "            correct_confidences = np.sum(\n",
    "                y_pred_clpped * y_true,\n",
    "                axis = 1\n",
    "            )\n",
    "        negative_log_likelihoods = -np.log(correct_confidences)\n",
    "        return negative_log_likelihoods\n",
    "\n",
    "    def backward(self,dvalues,y_true):\n",
    "        samples = len(dvalues)\n",
    "        labels = len(dvalues[0])\n",
    "\n",
    "        if(len(y_true.shape) == 1):\n",
    "            y_true = np.eye(labels)[y_true]\n",
    "        self.dinputs = -y_true / dvalues\n",
    "        self.dinputs = self.dinputs / samples\n"
   ]
  },
  {
   "cell_type": "markdown",
   "id": "e428472d",
   "metadata": {},
   "source": [
    "Combined softmax activation and categorical cross-entropy loss for efficiency.\n",
    "`forward` runs softmax then computes the loss.\n",
    "`backward` simplifies gradient calculation using the derivative of softmax + CCE, avoiding the full Jacobian.\n"
   ]
  },
  {
   "cell_type": "code",
   "execution_count": null,
   "id": "2c9aaf37",
   "metadata": {
    "vscode": {
     "languageId": "plaintext"
    }
   },
   "outputs": [],
   "source": [
    "class Activation_Softmax_Loss_CategoricalCrossentropy():\n",
    "    def __init__(self):\n",
    "        self.activation = Activation_Softmax()\n",
    "        self.loss = Loss_CategoricalCrossentropy()\n",
    "\n",
    "    def forward(self, inputs, y_true):\n",
    "        self.activation.forward(inputs)\n",
    "        self.output = self.activation.output\n",
    "        return self.loss.Calculate(self.output, y_true)\n",
    "\n",
    "    def backward(self, dvalues, y_true):\n",
    "        samples = len(dvalues)\n",
    "\n",
    "        if len(y_true.shape) == 2:\n",
    "            y_true = np.argmax(y_true, axis=1)\n",
    "\n",
    "        self.dinputs = dvalues.copy()\n",
    "        self.dinputs[range(samples), y_true] -= 1\n",
    "        self.dinputs = self.dinputs / samples"
   ]
  },
  {
   "cell_type": "markdown",
   "id": "d5949b0d",
   "metadata": {},
   "source": [
    "SGD optimizer with optional learning rate decay.\n",
    "`pre_update_params` adjusts learning rate before updates,\n",
    "`update_params` applies gradients,\n",
    "`post_update_params` increments iteration count.\n"
   ]
  },
  {
   "cell_type": "code",
   "execution_count": null,
   "id": "f14153d8",
   "metadata": {
    "vscode": {
     "languageId": "plaintext"
    }
   },
   "outputs": [],
   "source": [
    "class Optimizer_SGD:\n",
    "    def __init__(self,learning_rate = 1.0,decay = 0.01):\n",
    "        self.learning_rate = learning_rate\n",
    "        self.current_learning_rate = learning_rate\n",
    "        self.decay = decay\n",
    "        self.iterations = 0\n",
    "\n",
    "    def update_params(self,layer):\n",
    "        if hasattr(layer, 'dweights') and hasattr(layer, 'dbiases'):\n",
    "            layer.weights += - self.current_learning_rate  * layer.dweights\n",
    "            layer.biases += -self.current_learning_rate * layer.dbiases\n",
    "    def pre_update_params(self):\n",
    "        if(self.decay):\n",
    "            self.current_learning_rate = self.learning_rate * (1. / (1. + self.decay * self.iterations))\n",
    "    def post_update_params(self):\n",
    "        self.iterations += 1"
   ]
  },
  {
   "cell_type": "markdown",
   "id": "be010d70",
   "metadata": {},
   "source": [
    "That's the Adam optimizer implementation — it combines momentum (`beta_1`) and RMSProp-like adaptive learning rates (`beta_2`) with bias correction for stability, plus optional decay and a small `epsilon` to prevent division by zero.\n"
   ]
  },
  {
   "cell_type": "code",
   "execution_count": null,
   "id": "fd5b05b4",
   "metadata": {
    "vscode": {
     "languageId": "plaintext"
    }
   },
   "outputs": [],
   "source": [
    "class Optimizer_Adam:\n",
    "    def __init__(self, learning_rate=0.001, decay=0., epsilon=1e-7,\n",
    "                 beta_1=0.9, beta_2=0.999):\n",
    "        self.learning_rate = learning_rate\n",
    "        self.current_learning_rate = learning_rate\n",
    "        self.decay = decay\n",
    "        self.iterations = 0\n",
    "        self.epsilon = epsilon\n",
    "        self.beta_1 = beta_1\n",
    "        self.beta_2 = beta_2\n",
    "\n",
    "    def pre_update_params(self):\n",
    "        if self.decay:\n",
    "            self.current_learning_rate = self.learning_rate * \\\n",
    "                (1. / (1. + self.decay * self.iterations))\n",
    "\n",
    "    def update_params(self, layer):\n",
    "        if not hasattr(layer, 'weight_cache'):\n",
    "            layer.weight_cache = np.zeros_like(layer.weights)\n",
    "            layer.bias_cache = np.zeros_like(layer.biases)\n",
    "            layer.weight_momentums = np.zeros_like(layer.weights)\n",
    "            layer.bias_momentums = np.zeros_like(layer.biases)\n",
    "\n",
    "        layer.weight_momentums = self.beta_1 * \\\n",
    "                                 layer.weight_momentums + \\\n",
    "                                 (1 - self.beta_1) * layer.dweights\n",
    "        layer.bias_momentums = self.beta_1 * \\\n",
    "                               layer.bias_momentums + \\\n",
    "                               (1 - self.beta_1) * layer.dbiases\n",
    "\n",
    "        weight_momentums_corrected = layer.weight_momentums / \\\n",
    "            (1 - self.beta_1 ** (self.iterations + 1))\n",
    "        bias_momentums_corrected = layer.bias_momentums / \\\n",
    "            (1 - self.beta_1 ** (self.iterations + 1))\n",
    "\n",
    "        layer.weight_cache = self.beta_2 * layer.weight_cache + \\\n",
    "                             (1 - self.beta_2) * layer.dweights**2\n",
    "        layer.bias_cache = self.beta_2 * layer.bias_cache + \\\n",
    "                           (1 - self.beta_2) * layer.dbiases**2\n",
    "\n",
    "        weight_cache_corrected = layer.weight_cache / \\\n",
    "            (1 - self.beta_2 ** (self.iterations + 1))\n",
    "        bias_cache_corrected = layer.bias_cache / \\\n",
    "            (1 - self.beta_2 ** (self.iterations + 1))\n",
    "\n",
    "        layer.weights += -self.current_learning_rate * \\\n",
    "                         weight_momentums_corrected / \\\n",
    "                         (np.sqrt(weight_cache_corrected) +\n",
    "                          self.epsilon)\n",
    "        layer.biases += -self.current_learning_rate * \\\n",
    "                        bias_momentums_corrected / \\\n",
    "                        (np.sqrt(bias_cache_corrected) +\n",
    "                         self.epsilon)\n",
    "\n",
    "\n",
    "    def post_update_params(self):\n",
    "        self.iterations += 1\n",
    "\n",
    "\n"
   ]
  }
 ],
 "metadata": {
  "language_info": {
   "name": "python"
  }
 },
 "nbformat": 4,
 "nbformat_minor": 5
}
