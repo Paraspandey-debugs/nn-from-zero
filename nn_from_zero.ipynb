{
 "cells": [
  {
   "cell_type": "markdown",
   "id": "f721a3f5",
   "metadata": {},
   "source": [
    "### Importing Required Libraries\n",
    "\n",
    "We start by importing the necessary Python libraries for numerical computation, data visualization, and data handling:\n",
    "\n",
    "- **NumPy** – for numerical operations  \n",
    "- **Matplotlib** – for creating visualizations  \n",
    "- **Pandas** – for data manipulation and analysis  \n",
    "\n",
    "We also define the mathematical constant **Euler's Number (E)** for later use.\n"
   ]
  },
  {
   "cell_type": "code",
   "execution_count": null,
   "id": "54918ac9",
   "metadata": {
    "vscode": {
     "languageId": "plaintext"
    }
   },
   "outputs": [],
   "source": [
    "import numpy as np\n",
    "# import nnfs\n",
    "# from nnfs.datasets import spiral_data\n",
    "import matplotlib.pyplot as plt\n",
    "import pandas as pd\n",
    "# nnfs.init()\n",
    "E = 2.71828182846\n",
    "\n"
   ]
  },
  {
   "cell_type": "markdown",
   "id": "a9f79f26",
   "metadata": {},
   "source": [
    "-Creating a Dense Layer class for a neural network.\n",
    "-Initializes small random weights and zero biases.\n",
    "-Forward pass computes outputs, backward pass calculates gradients for weights, biases, and inputs."
   ]
  },
  {
   "cell_type": "code",
   "execution_count": null,
   "id": "5de83f7e",
   "metadata": {
    "vscode": {
     "languageId": "plaintext"
    }
   },
   "outputs": [],
   "source": [
    "class Layer_Dense:\n",
    "    def __init__(self, n_inputs, n_neurons):\n",
    "        self.weights = 0.01 * np.random.randn(n_inputs, n_neurons)\n",
    "        self.biases = np.zeros((1, n_neurons))\n",
    "\n",
    "    def forward(self, inputs):\n",
    "        self.inputs = inputs\n",
    "        self.output = np.dot(inputs, self.weights) + self.biases\n",
    "\n",
    "    def backward(self, dvalues):\n",
    "        self.dweights = np.dot(self.inputs.T, dvalues)\n",
    "        self.dbiases = np.sum(dvalues, axis=0, keepdims=True)\n",
    "        self.dinputs = np.dot(dvalues, self.weights.T)\n"
   ]
  },
  {
   "cell_type": "markdown",
   "id": "8d6aefd1",
   "metadata": {},
   "source": [
    "Defines two activation functions for neural networks:\n",
    "\n",
    "* ReLU: outputs positive values, zeroing negatives; backward pass stops gradients for inactive neurons.\n",
    "* Softmax: converts outputs to probabilities; backward pass uses the Jacobian matrix for gradient calculation.\n"
   ]
  },
  {
   "cell_type": "code",
   "execution_count": null,
   "id": "7e5bc357",
   "metadata": {
    "vscode": {
     "languageId": "plaintext"
    }
   },
   "outputs": [],
   "source": [
    "class Activation_ReLU:\n",
    "    def forward(self,inputs):\n",
    "        self.inputs = inputs\n",
    "        self.output = np.maximum(0,inputs)\n",
    "    def backward(self,dvalues):\n",
    "        self.dinputs = dvalues.copy()\n",
    "        self.dinputs[self.inputs <=0] = 0\n",
    "\n",
    "\n",
    "class Activation_Softmax:\n",
    "    def forward(self,inputs):\n",
    "\n",
    "        exp_values = np.exp(inputs - np.max(inputs,axis=1,keepdims=True))\n",
    "        probablities = exp_values/np.sum(exp_values,axis=1,keepdims=True)\n",
    "\n",
    "        self.output = probablities\n",
    "    def backward(self,dvalues):\n",
    "        self.dinputs = np.empty_like(dvalues)\n",
    "\n",
    "        for index, (single_output,single_dvalues)in enumerate(zip(self.output,dvalues)):\n",
    "            single_output = single_output.reshape(-1,1)\n",
    "            jacobian_matrix = np.diagflat(single_output) - np.dot(single_output, single_output.T)\n",
    "            self.dinputs[index] = np.dot(jacobian_matrix,single_dvalues)\n",
    "\n"
   ]
  },
  {
   "cell_type": "markdown",
   "id": "a787af13",
   "metadata": {},
   "source": [
    "Base Loss class with a `Calculate` method.\n",
    "Calls `forward` to compute per-sample losses, then returns their mean as the final loss value.\n"
   ]
  },
  {
   "cell_type": "code",
   "execution_count": null,
   "id": "de638ff8",
   "metadata": {
    "vscode": {
     "languageId": "plaintext"
    }
   },
   "outputs": [],
   "source": [
    "class Loss:\n",
    "    def Calculate(self,output,y):\n",
    "        sample_losses = self.forward(output,y)\n",
    "        data_loss = np.mean(sample_losses)\n",
    "\n",
    "        return data_loss\n"
   ]
  },
  {
   "cell_type": "markdown",
   "id": "96fb0a57",
   "metadata": {},
   "source": [
    "Categorical Cross-Entropy loss implementation.\n",
    "In `forward`, it clips predictions to avoid log(0), selects the correct class probabilities, and returns the negative log-likelihoods.\n",
    "In `backward`, it converts class indices to one-hot if needed and computes the gradient with respect to predictions.\n"
   ]
  },
  {
   "cell_type": "code",
   "execution_count": null,
   "id": "49b0ed8d",
   "metadata": {
    "vscode": {
     "languageId": "plaintext"
    }
   },
   "outputs": [],
   "source": [
    "class Loss_CategoricalCrossentropy(Loss):\n",
    "    def forward(self,y_pred,y_true):\n",
    "        samples = len(y_pred)\n",
    "        y_pred_clpped = np.clip(y_pred,1e-7,1-1e-7)\n",
    "\n",
    "        if len(y_true.shape) == 1:\n",
    "            correct_confidences = y_pred_clpped[\n",
    "                range(samples),\n",
    "                y_true\n",
    "            ]\n",
    "\n",
    "        elif len(y_true.shape) == 2:\n",
    "            correct_confidences = np.sum(\n",
    "                y_pred_clpped * y_true,\n",
    "                axis = 1\n",
    "            )\n",
    "        negative_log_likelihoods = -np.log(correct_confidences)\n",
    "        return negative_log_likelihoods\n",
    "\n",
    "    def backward(self,dvalues,y_true):\n",
    "        samples = len(dvalues)\n",
    "        labels = len(dvalues[0])\n",
    "\n",
    "        if(len(y_true.shape) == 1):\n",
    "            y_true = np.eye(labels)[y_true]\n",
    "        self.dinputs = -y_true / dvalues\n",
    "        self.dinputs = self.dinputs / samples\n"
   ]
  },
  {
   "cell_type": "markdown",
   "id": "e428472d",
   "metadata": {},
   "source": [
    "Combined softmax activation and categorical cross-entropy loss for efficiency.\n",
    "`forward` runs softmax then computes the loss.\n",
    "`backward` simplifies gradient calculation using the derivative of softmax + CCE, avoiding the full Jacobian.\n"
   ]
  },
  {
   "cell_type": "code",
   "execution_count": null,
   "id": "2c9aaf37",
   "metadata": {
    "vscode": {
     "languageId": "plaintext"
    }
   },
   "outputs": [],
   "source": [
    "class Activation_Softmax_Loss_CategoricalCrossentropy():\n",
    "    def __init__(self):\n",
    "        self.activation = Activation_Softmax()\n",
    "        self.loss = Loss_CategoricalCrossentropy()\n",
    "\n",
    "    def forward(self, inputs, y_true):\n",
    "        self.activation.forward(inputs)\n",
    "        self.output = self.activation.output\n",
    "        return self.loss.Calculate(self.output, y_true)\n",
    "\n",
    "    def backward(self, dvalues, y_true):\n",
    "        samples = len(dvalues)\n",
    "\n",
    "        if len(y_true.shape) == 2:\n",
    "            y_true = np.argmax(y_true, axis=1)\n",
    "\n",
    "        self.dinputs = dvalues.copy()\n",
    "        self.dinputs[range(samples), y_true] -= 1\n",
    "        self.dinputs = self.dinputs / samples"
   ]
  },
  {
   "cell_type": "markdown",
   "id": "d5949b0d",
   "metadata": {},
   "source": [
    "SGD optimizer with optional learning rate decay.\n",
    "`pre_update_params` adjusts learning rate before updates,\n",
    "`update_params` applies gradients,\n",
    "`post_update_params` increments iteration count.\n"
   ]
  },
  {
   "cell_type": "code",
   "execution_count": null,
   "id": "f14153d8",
   "metadata": {
    "vscode": {
     "languageId": "plaintext"
    }
   },
   "outputs": [],
   "source": [
    "class Optimizer_SGD:\n",
    "    def __init__(self,learning_rate = 1.0,decay = 0.01):\n",
    "        self.learning_rate = learning_rate\n",
    "        self.current_learning_rate = learning_rate\n",
    "        self.decay = decay\n",
    "        self.iterations = 0\n",
    "\n",
    "    def update_params(self,layer):\n",
    "        if hasattr(layer, 'dweights') and hasattr(layer, 'dbiases'):\n",
    "            layer.weights += - self.current_learning_rate  * layer.dweights\n",
    "            layer.biases += -self.current_learning_rate * layer.dbiases\n",
    "    def pre_update_params(self):\n",
    "        if(self.decay):\n",
    "            self.current_learning_rate = self.learning_rate * (1. / (1. + self.decay * self.iterations))\n",
    "    def post_update_params(self):\n",
    "        self.iterations += 1"
   ]
  },
  {
   "cell_type": "markdown",
   "id": "be010d70",
   "metadata": {},
   "source": [
    "That's the Adam optimizer implementation — it combines momentum (`beta_1`) and RMSProp-like adaptive learning rates (`beta_2`) with bias correction for stability, plus optional decay and a small `epsilon` to prevent division by zero.\n"
   ]
  },
  {
   "cell_type": "code",
   "execution_count": null,
   "id": "fd5b05b4",
   "metadata": {
    "vscode": {
     "languageId": "plaintext"
    }
   },
   "outputs": [],
   "source": [
    "class Optimizer_Adam:\n",
    "    def __init__(self, learning_rate=0.001, decay=0., epsilon=1e-7,\n",
    "                 beta_1=0.9, beta_2=0.999):\n",
    "        self.learning_rate = learning_rate\n",
    "        self.current_learning_rate = learning_rate\n",
    "        self.decay = decay\n",
    "        self.iterations = 0\n",
    "        self.epsilon = epsilon\n",
    "        self.beta_1 = beta_1\n",
    "        self.beta_2 = beta_2\n",
    "\n",
    "    def pre_update_params(self):\n",
    "        if self.decay:\n",
    "            self.current_learning_rate = self.learning_rate * \\\n",
    "                (1. / (1. + self.decay * self.iterations))\n",
    "\n",
    "    def update_params(self, layer):\n",
    "        if not hasattr(layer, 'weight_cache'):\n",
    "            layer.weight_cache = np.zeros_like(layer.weights)\n",
    "            layer.bias_cache = np.zeros_like(layer.biases)\n",
    "            layer.weight_momentums = np.zeros_like(layer.weights)\n",
    "            layer.bias_momentums = np.zeros_like(layer.biases)\n",
    "\n",
    "        layer.weight_momentums = self.beta_1 * \\\n",
    "                                 layer.weight_momentums + \\\n",
    "                                 (1 - self.beta_1) * layer.dweights\n",
    "        layer.bias_momentums = self.beta_1 * \\\n",
    "                               layer.bias_momentums + \\\n",
    "                               (1 - self.beta_1) * layer.dbiases\n",
    "\n",
    "        weight_momentums_corrected = layer.weight_momentums / \\\n",
    "            (1 - self.beta_1 ** (self.iterations + 1))\n",
    "        bias_momentums_corrected = layer.bias_momentums / \\\n",
    "            (1 - self.beta_1 ** (self.iterations + 1))\n",
    "\n",
    "        layer.weight_cache = self.beta_2 * layer.weight_cache + \\\n",
    "                             (1 - self.beta_2) * layer.dweights**2\n",
    "        layer.bias_cache = self.beta_2 * layer.bias_cache + \\\n",
    "                           (1 - self.beta_2) * layer.dbiases**2\n",
    "\n",
    "        weight_cache_corrected = layer.weight_cache / \\\n",
    "            (1 - self.beta_2 ** (self.iterations + 1))\n",
    "        bias_cache_corrected = layer.bias_cache / \\\n",
    "            (1 - self.beta_2 ** (self.iterations + 1))\n",
    "\n",
    "        layer.weights += -self.current_learning_rate * \\\n",
    "                         weight_momentums_corrected / \\\n",
    "                         (np.sqrt(weight_cache_corrected) +\n",
    "                          self.epsilon)\n",
    "        layer.biases += -self.current_learning_rate * \\\n",
    "                        bias_momentums_corrected / \\\n",
    "                        (np.sqrt(bias_cache_corrected) +\n",
    "                         self.epsilon)\n",
    "\n",
    "\n",
    "    def post_update_params(self):\n",
    "        self.iterations += 1\n",
    "\n",
    "\n"
   ]
  },
  {
   "cell_type": "markdown",
   "id": "acc12919",
   "metadata": {},
   "source": [
    "That’s a straightforward MNIST loader using raw IDX file parsing — no `tensorflow` or `torch` needed, just binary reading with NumPy reshape.\n",
    "\n",
    "It:\n",
    "\n",
    "* Skips the IDX file headers (`16` bytes for images, `8` for labels)\n",
    "* Reads the pixel/label data directly into NumPy arrays\n",
    "* Reshapes image arrays to `(num_samples, 28, 28)`\n",
    "* Returns train/test sets from the given directory\n",
    "\n",
    "If you want, I can also make a short `.ipynb` cell description for this so it looks clean in your notebook.\n"
   ]
  },
  {
   "cell_type": "code",
   "execution_count": null,
   "id": "f442ebf3",
   "metadata": {
    "vscode": {
     "languageId": "plaintext"
    }
   },
   "outputs": [],
   "source": [
    "import os\n",
    "import cv2\n",
    "import numpy as np\n",
    "\n",
    "def load_mnist_images(filepath):\n",
    "    with open(filepath, 'rb') as f:\n",
    "        f.read(16)\n",
    "        buf = f.read()\n",
    "        data = np.frombuffer(buf, dtype=np.uint8)\n",
    "        return data.reshape(-1, 28, 28)\n",
    "\n",
    "def load_mnist_labels(filepath):\n",
    "    with open(filepath, 'rb') as f:\n",
    "        f.read(8)\n",
    "        buf = f.read()\n",
    "        data = np.frombuffer(buf, dtype=np.uint8)\n",
    "        return data\n",
    "\n",
    "def create_data_mnist(path):\n",
    "    train_images_path = os.path.join(path, 'train-images-idx3-ubyte')\n",
    "    train_labels_path = os.path.join(path, 'train-labels-idx1-ubyte')\n",
    "    test_images_path = os.path.join(path, 't10k-images-idx3-ubyte')\n",
    "    test_labels_path = os.path.join(path, 't10k-labels-idx1-ubyte')\n",
    "\n",
    "    X_train = load_mnist_images(train_images_path)\n",
    "    y_train = load_mnist_labels(train_labels_path)\n",
    "    X_test = load_mnist_images(test_images_path)\n",
    "    y_test = load_mnist_labels(test_labels_path)\n",
    "\n",
    "    return X_train, y_train, X_test, y_test"
   ]
  },
  {
   "cell_type": "markdown",
   "id": "a52fbaa6",
   "metadata": {},
   "source": [
    "This snippet handles MNIST setup end-to-end — it:\n",
    "\n",
    "* **Downloads** the four compressed IDX files (`.gz`) from TensorFlow’s hosted dataset if they aren’t already present.\n",
    "* **Extracts** them from gzip to raw binary IDX format so they can be read directly by your loader.\n",
    "* Creates a `mnist_dataset` folder if it doesn’t exist.\n",
    "\n",
    "Perfect as a preprocessing step before your earlier `create_data_mnist()` function.\n"
   ]
  },
  {
   "cell_type": "code",
   "execution_count": null,
   "id": "49bc8964",
   "metadata": {
    "vscode": {
     "languageId": "plaintext"
    }
   },
   "outputs": [],
   "source": [
    "import urllib.request\n",
    "import os\n",
    "import gzip\n",
    "\n",
    "def download_mnist(path):\n",
    "    base_url = \"https://storage.googleapis.com/tensorflow/tf-keras-datasets/\"\n",
    "    files = [\n",
    "        \"train-images-idx3-ubyte.gz\", \"train-labels-idx1-ubyte.gz\",\n",
    "        \"t10k-images-idx3-ubyte.gz\", \"t10k-labels-idx1-ubyte.gz\"\n",
    "    ]\n",
    "    for file in files:\n",
    "        url = base_url + file\n",
    "        filepath = os.path.join(path, file)\n",
    "        if not os.path.exists(filepath):\n",
    "            print(f\"Downloading {file}...\")\n",
    "            urllib.request.urlretrieve(url, filepath)\n",
    "            print(\"Done.\")\n",
    "\n",
    "def extract_mnist(path):\n",
    "    files = [\n",
    "        \"train-images-idx3-ubyte.gz\", \"train-labels-idx1-ubyte.gz\",\n",
    "        \"t10k-images-idx3-ubyte.gz\", \"t10k-labels-idx1-ubyte.gz\"\n",
    "    ]\n",
    "    for file in files:\n",
    "        filepath = os.path.join(path, file)\n",
    "        if os.path.exists(filepath):\n",
    "            print(f\"Extracting {file}...\")\n",
    "            with gzip.open(filepath, 'rb') as f_in:\n",
    "                with open(filepath[:-3], 'wb') as f_out:\n",
    "                    f_out.writelines(f_in)\n",
    "            print(\"Done.\")\n",
    "\n",
    "path = 'mnist_dataset'\n",
    "if not os.path.exists(path):\n",
    "    os.makedirs(path)\n",
    "\n",
    "download_mnist(path)\n",
    "extract_mnist(path)"
   ]
  },
  {
   "cell_type": "markdown",
   "id": "0aea9664",
   "metadata": {},
   "source": [
    "Trains a 3-layer neural network on MNIST using ReLU, softmax, cross-entropy loss, and Adam optimizer with mini-batch training, tracking accuracy and loss for training and validation."
   ]
  },
  {
   "cell_type": "code",
   "execution_count": null,
   "id": "cf73a695",
   "metadata": {
    "vscode": {
     "languageId": "plaintext"
    }
   },
   "outputs": [],
   "source": [
    "import numpy as np\n",
    "\n",
    "X, y, X_test, y_test = create_data_mnist('mnist_dataset')\n",
    "X = (X.reshape(X.shape[0], -1).astype(np.float32) - 127.5) / 127.5\n",
    "X_test = (X_test.reshape(X_test.shape[0], -1).astype(np.float32) - 127.5) / 127.5\n",
    "\n",
    "dense1 = Layer_Dense(X.shape[1], 128)\n",
    "activation1 = Activation_ReLU()\n",
    "dense2 = Layer_Dense(128, 64)\n",
    "activation2 = Activation_ReLU()\n",
    "dense3 = Layer_Dense(64, 10)\n",
    "loss_activation = Activation_Softmax_Loss_CategoricalCrossentropy()\n",
    "optimizer = Optimizer_Adam(learning_rate=0.001, decay=1e-5)\n",
    "\n",
    "EPOCHS, BATCH_SIZE = 90, 128\n",
    "epoch_losses, epoch_accuracies = [], []\n",
    "\n",
    "for epoch in range(EPOCHS):\n",
    "    keys = np.random.permutation(X.shape[0])\n",
    "    X, y = X[keys], y[keys]\n",
    "    steps = -(-X.shape[0] // BATCH_SIZE)\n",
    "\n",
    "    epoch_loss = epoch_accuracy = 0\n",
    "\n",
    "    for step in range(steps):\n",
    "        batch_X = X[step*BATCH_SIZE:(step+1)*BATCH_SIZE]\n",
    "        batch_y = y[step*BATCH_SIZE:(step+1)*BATCH_SIZE]\n",
    "\n",
    "        dense1.forward(batch_X)\n",
    "        activation1.forward(dense1.output)\n",
    "        dense2.forward(activation1.output)\n",
    "        activation2.forward(dense2.output)\n",
    "        dense3.forward(activation2.output)\n",
    "        loss = loss_activation.forward(dense3.output, batch_y)\n",
    "        predictions = np.argmax(loss_activation.output, axis=1)\n",
    "        accuracy = np.mean(predictions == batch_y)\n",
    "\n",
    "        epoch_loss += loss\n",
    "        epoch_accuracy += accuracy\n",
    "\n",
    "        if step == 0:\n",
    "            print(f'epoch: {epoch}, step: {step}, acc: {accuracy:.3f}, loss: {loss:.3f}, lr: {optimizer.current_learning_rate}')\n",
    "\n",
    "        loss_activation.backward(loss_activation.output, batch_y)\n",
    "        dense3.backward(loss_activation.dinputs)\n",
    "        activation2.backward(dense3.dinputs)\n",
    "        dense2.backward(activation2.dinputs)\n",
    "        activation1.backward(dense2.dinputs)\n",
    "        dense1.backward(activation1.dinputs)\n",
    "\n",
    "        optimizer.pre_update_params()\n",
    "        optimizer.update_params(dense1)\n",
    "        optimizer.update_params(dense2)\n",
    "        optimizer.update_params(dense3)\n",
    "        optimizer.post_update_params()\n",
    "\n",
    "    epoch_loss /= steps\n",
    "    epoch_accuracy /= steps\n",
    "    epoch_losses.append(epoch_loss)\n",
    "    epoch_accuracies.append(epoch_accuracy)\n",
    "\n",
    "    dense1.forward(X_test)\n",
    "    activation1.forward(dense1.output)\n",
    "    dense2.forward(activation1.output)\n",
    "    activation2.forward(dense2.output)\n",
    "    dense3.forward(activation2.output)\n",
    "    val_loss = loss_activation.forward(dense3.output, y_test)\n",
    "    val_preds = np.argmax(loss_activation.output, axis=1)\n",
    "    val_acc = np.mean(val_preds == y_test)\n",
    "\n",
    "    print(f'Epoch {epoch} Validation -> acc: {val_acc:.3f}, loss: {val_loss:.3f}')\n",
    "\n",
    "print(\"\\nFinal test result:\")\n",
    "dense1.forward(X_test)\n",
    "activation1.forward(dense1.output)\n",
    "dense2.forward(activation1.output)\n",
    "activation2.forward(dense2.output)\n",
    "dense3.forward(activation2.output)\n",
    "loss = loss_activation.forward(dense3.output, y_test)\n",
    "predictions = np.argmax(loss_activation.output, axis=1)\n",
    "accuracy = np.mean(predictions == y_test)\n",
    "print(f'Validation -> acc: {accuracy:.3f}, loss: {loss:.3f}')\n"
   ]
  },
  {
   "cell_type": "markdown",
   "id": "d90ea818",
   "metadata": {},
   "source": [
    "Plots accuracy/loss over epochs and predicts the digit from an external image using the trained model."
   ]
  },
  {
   "cell_type": "code",
   "execution_count": null,
   "id": "a302e007",
   "metadata": {
    "vscode": {
     "languageId": "plaintext"
    }
   },
   "outputs": [],
   "source": [
    "import matplotlib.pyplot as plt\n",
    "import cv2\n",
    "import numpy as np\n",
    "\n",
    "plt.figure(figsize=(12, 5))\n",
    "plt.subplot(1, 2, 1)\n",
    "plt.plot(range(len(epoch_accuracies)), epoch_accuracies)\n",
    "plt.title('Model Accuracy'); plt.ylabel('Accuracy'); plt.xlabel('Epoch')\n",
    "\n",
    "plt.subplot(1, 2, 2)\n",
    "plt.plot(range(len(epoch_losses)), epoch_losses)\n",
    "plt.title('Model Loss'); plt.ylabel('Loss'); plt.xlabel('Epoch')\n",
    "\n",
    "plt.suptitle('Model Training History')\n",
    "plt.show()\n",
    "\n",
    "def predict_external_image(image_path, dense1, activation1, dense2, activation2, dense3):\n",
    "    image = cv2.imread(image_path, cv2.IMREAD_GRAYSCALE)\n",
    "    image = cv2.resize(image, (28, 28))\n",
    "    if np.mean(image) >= 127.5: image = 255 - image\n",
    "    image_data = (image.reshape(1, -1).astype(np.float32) - 127.5) / 127.5\n",
    "    dense1.forward(image_data)\n",
    "    activation1.forward(dense1.output)\n",
    "    dense2.forward(activation1.output)\n",
    "    activation2.forward(dense2.output)\n",
    "    dense3.forward(activation2.output)\n",
    "    return np.argmax(dense3.output, axis=1)[0]\n"
   ]
  },
  {
   "cell_type": "markdown",
   "id": "96e93dd2",
   "metadata": {},
   "source": [
    "Loads an image, runs it through the trained model, and prints the predicted digit."
   ]
  },
  {
   "cell_type": "code",
   "execution_count": null,
   "id": "51e19a9a",
   "metadata": {
    "vscode": {
     "languageId": "plaintext"
    }
   },
   "outputs": [],
   "source": [
    "image_file = '/content/download (2).png'\n",
    "\n",
    "predicted_digit = predict_external_image(image_file, dense1, activation1, dense2,activation2,dense3)\n",
    "\n",
    "print(f\"The model predicts the digit is: {predicted_digit}\")"
   ]
  }
 ],
 "metadata": {
  "language_info": {
   "name": "python"
  }
 },
 "nbformat": 4,
 "nbformat_minor": 5
}
