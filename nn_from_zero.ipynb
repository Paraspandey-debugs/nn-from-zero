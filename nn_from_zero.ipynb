{
 "cells": [
  {
   "cell_type": "markdown",
   "id": "f721a3f5",
   "metadata": {},
   "source": [
    "### Importing Required Libraries\n",
    "\n",
    "We start by importing the necessary Python libraries for numerical computation, data visualization, and data handling:\n",
    "\n",
    "- **NumPy** – for numerical operations  \n",
    "- **Matplotlib** – for creating visualizations  \n",
    "- **Pandas** – for data manipulation and analysis  \n",
    "\n",
    "We also define the mathematical constant **Euler's Number (E)** for later use.\n"
   ]
  },
  {
   "cell_type": "code",
   "execution_count": null,
   "id": "54918ac9",
   "metadata": {
    "vscode": {
     "languageId": "plaintext"
    }
   },
   "outputs": [],
   "source": [
    "import numpy as np\n",
    "# import nnfs\n",
    "# from nnfs.datasets import spiral_data\n",
    "import matplotlib.pyplot as plt\n",
    "import pandas as pd\n",
    "# nnfs.init()\n",
    "E = 2.71828182846\n",
    "\n"
   ]
  },
  {
   "cell_type": "markdown",
   "id": "a9f79f26",
   "metadata": {},
   "source": [
    "-Creating a Dense Layer class for a neural network.\n",
    "-Initializes small random weights and zero biases.\n",
    "-Forward pass computes outputs, backward pass calculates gradients for weights, biases, and inputs."
   ]
  },
  {
   "cell_type": "code",
   "execution_count": null,
   "id": "5de83f7e",
   "metadata": {
    "vscode": {
     "languageId": "plaintext"
    }
   },
   "outputs": [],
   "source": [
    "class Layer_Dense:\n",
    "    def __init__(self, n_inputs, n_neurons):\n",
    "        self.weights = 0.01 * np.random.randn(n_inputs, n_neurons)\n",
    "        self.biases = np.zeros((1, n_neurons))\n",
    "\n",
    "    def forward(self, inputs):\n",
    "        self.inputs = inputs\n",
    "        self.output = np.dot(inputs, self.weights) + self.biases\n",
    "\n",
    "    def backward(self, dvalues):\n",
    "        self.dweights = np.dot(self.inputs.T, dvalues)\n",
    "        self.dbiases = np.sum(dvalues, axis=0, keepdims=True)\n",
    "        self.dinputs = np.dot(dvalues, self.weights.T)\n"
   ]
  }
 ],
 "metadata": {
  "language_info": {
   "name": "python"
  }
 },
 "nbformat": 4,
 "nbformat_minor": 5
}
