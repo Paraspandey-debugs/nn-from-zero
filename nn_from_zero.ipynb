{
 "cells": [
  {
   "cell_type": "markdown",
   "id": "f721a3f5",
   "metadata": {},
   "source": [
    "### Importing Required Libraries\n",
    "\n",
    "We start by importing the necessary Python libraries for numerical computation, data visualization, and data handling:\n",
    "\n",
    "- **NumPy** – for numerical operations  \n",
    "- **Matplotlib** – for creating visualizations  \n",
    "- **Pandas** – for data manipulation and analysis  \n",
    "\n",
    "We also define the mathematical constant **Euler's Number (E)** for later use.\n"
   ]
  },
  {
   "cell_type": "code",
   "execution_count": null,
   "id": "54918ac9",
   "metadata": {
    "vscode": {
     "languageId": "plaintext"
    }
   },
   "outputs": [],
   "source": [
    "import numpy as np\n",
    "# import nnfs\n",
    "# from nnfs.datasets import spiral_data\n",
    "import matplotlib.pyplot as plt\n",
    "import pandas as pd\n",
    "# nnfs.init()\n",
    "E = 2.71828182846\n",
    "\n"
   ]
  },
  {
   "cell_type": "markdown",
   "id": "a9f79f26",
   "metadata": {},
   "source": [
    "-Creating a Dense Layer class for a neural network.\n",
    "-Initializes small random weights and zero biases.\n",
    "-Forward pass computes outputs, backward pass calculates gradients for weights, biases, and inputs."
   ]
  },
  {
   "cell_type": "code",
   "execution_count": null,
   "id": "5de83f7e",
   "metadata": {
    "vscode": {
     "languageId": "plaintext"
    }
   },
   "outputs": [],
   "source": [
    "class Layer_Dense:\n",
    "    def __init__(self, n_inputs, n_neurons):\n",
    "        self.weights = 0.01 * np.random.randn(n_inputs, n_neurons)\n",
    "        self.biases = np.zeros((1, n_neurons))\n",
    "\n",
    "    def forward(self, inputs):\n",
    "        self.inputs = inputs\n",
    "        self.output = np.dot(inputs, self.weights) + self.biases\n",
    "\n",
    "    def backward(self, dvalues):\n",
    "        self.dweights = np.dot(self.inputs.T, dvalues)\n",
    "        self.dbiases = np.sum(dvalues, axis=0, keepdims=True)\n",
    "        self.dinputs = np.dot(dvalues, self.weights.T)\n"
   ]
  },
  {
   "cell_type": "markdown",
   "id": "8d6aefd1",
   "metadata": {},
   "source": [
    "Defines two activation functions for neural networks:\n",
    "\n",
    "* ReLU: outputs positive values, zeroing negatives; backward pass stops gradients for inactive neurons.\n",
    "* Softmax: converts outputs to probabilities; backward pass uses the Jacobian matrix for gradient calculation.\n"
   ]
  },
  {
   "cell_type": "code",
   "execution_count": null,
   "id": "7e5bc357",
   "metadata": {
    "vscode": {
     "languageId": "plaintext"
    }
   },
   "outputs": [],
   "source": [
    "class Activation_ReLU:\n",
    "    def forward(self,inputs):\n",
    "        self.inputs = inputs\n",
    "        self.output = np.maximum(0,inputs)\n",
    "    def backward(self,dvalues):\n",
    "        self.dinputs = dvalues.copy()\n",
    "        self.dinputs[self.inputs <=0] = 0\n",
    "\n",
    "\n",
    "class Activation_Softmax:\n",
    "    def forward(self,inputs):\n",
    "\n",
    "        exp_values = np.exp(inputs - np.max(inputs,axis=1,keepdims=True))\n",
    "        probablities = exp_values/np.sum(exp_values,axis=1,keepdims=True)\n",
    "\n",
    "        self.output = probablities\n",
    "    def backward(self,dvalues):\n",
    "        self.dinputs = np.empty_like(dvalues)\n",
    "\n",
    "        for index, (single_output,single_dvalues)in enumerate(zip(self.output,dvalues)):\n",
    "            single_output = single_output.reshape(-1,1)\n",
    "            jacobian_matrix = np.diagflat(single_output) - np.dot(single_output, single_output.T)\n",
    "            self.dinputs[index] = np.dot(jacobian_matrix,single_dvalues)\n",
    "\n"
   ]
  },
  {
   "cell_type": "markdown",
   "id": "a787af13",
   "metadata": {},
   "source": [
    "Base Loss class with a `Calculate` method.\n",
    "Calls `forward` to compute per-sample losses, then returns their mean as the final loss value.\n"
   ]
  },
  {
   "cell_type": "code",
   "execution_count": null,
   "id": "de638ff8",
   "metadata": {
    "vscode": {
     "languageId": "plaintext"
    }
   },
   "outputs": [],
   "source": [
    "class Loss:\n",
    "    def Calculate(self,output,y):\n",
    "        sample_losses = self.forward(output,y)\n",
    "        data_loss = np.mean(sample_losses)\n",
    "\n",
    "        return data_loss\n"
   ]
  },
  {
   "cell_type": "markdown",
   "id": "96fb0a57",
   "metadata": {},
   "source": [
    "Categorical Cross-Entropy loss implementation.\n",
    "In `forward`, it clips predictions to avoid log(0), selects the correct class probabilities, and returns the negative log-likelihoods.\n",
    "In `backward`, it converts class indices to one-hot if needed and computes the gradient with respect to predictions.\n"
   ]
  },
  {
   "cell_type": "code",
   "execution_count": null,
   "id": "49b0ed8d",
   "metadata": {
    "vscode": {
     "languageId": "plaintext"
    }
   },
   "outputs": [],
   "source": [
    "class Loss_CategoricalCrossentropy(Loss):\n",
    "    def forward(self,y_pred,y_true):\n",
    "        samples = len(y_pred)\n",
    "        y_pred_clpped = np.clip(y_pred,1e-7,1-1e-7)\n",
    "\n",
    "        if len(y_true.shape) == 1:\n",
    "            correct_confidences = y_pred_clpped[\n",
    "                range(samples),\n",
    "                y_true\n",
    "            ]\n",
    "\n",
    "        elif len(y_true.shape) == 2:\n",
    "            correct_confidences = np.sum(\n",
    "                y_pred_clpped * y_true,\n",
    "                axis = 1\n",
    "            )\n",
    "        negative_log_likelihoods = -np.log(correct_confidences)\n",
    "        return negative_log_likelihoods\n",
    "\n",
    "    def backward(self,dvalues,y_true):\n",
    "        samples = len(dvalues)\n",
    "        labels = len(dvalues[0])\n",
    "\n",
    "        if(len(y_true.shape) == 1):\n",
    "            y_true = np.eye(labels)[y_true]\n",
    "        self.dinputs = -y_true / dvalues\n",
    "        self.dinputs = self.dinputs / samples\n"
   ]
  },
  {
   "cell_type": "markdown",
   "id": "e428472d",
   "metadata": {},
   "source": [
    "Combined softmax activation and categorical cross-entropy loss for efficiency.\n",
    "`forward` runs softmax then computes the loss.\n",
    "`backward` simplifies gradient calculation using the derivative of softmax + CCE, avoiding the full Jacobian.\n"
   ]
  },
  {
   "cell_type": "code",
   "execution_count": null,
   "id": "2c9aaf37",
   "metadata": {
    "vscode": {
     "languageId": "plaintext"
    }
   },
   "outputs": [],
   "source": [
    "class Activation_Softmax_Loss_CategoricalCrossentropy():\n",
    "    def __init__(self):\n",
    "        self.activation = Activation_Softmax()\n",
    "        self.loss = Loss_CategoricalCrossentropy()\n",
    "\n",
    "    def forward(self, inputs, y_true):\n",
    "        self.activation.forward(inputs)\n",
    "        self.output = self.activation.output\n",
    "        return self.loss.Calculate(self.output, y_true)\n",
    "\n",
    "    def backward(self, dvalues, y_true):\n",
    "        samples = len(dvalues)\n",
    "\n",
    "        if len(y_true.shape) == 2:\n",
    "            y_true = np.argmax(y_true, axis=1)\n",
    "\n",
    "        self.dinputs = dvalues.copy()\n",
    "        self.dinputs[range(samples), y_true] -= 1\n",
    "        self.dinputs = self.dinputs / samples"
   ]
  },
  {
   "cell_type": "markdown",
   "id": "d5949b0d",
   "metadata": {},
   "source": []
  },
  {
   "cell_type": "code",
   "execution_count": null,
   "id": "f14153d8",
   "metadata": {
    "vscode": {
     "languageId": "plaintext"
    }
   },
   "outputs": [],
   "source": []
  }
 ],
 "metadata": {
  "language_info": {
   "name": "python"
  }
 },
 "nbformat": 4,
 "nbformat_minor": 5
}
